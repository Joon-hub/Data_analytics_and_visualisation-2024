{
 "cells": [
  {
   "cell_type": "code",
   "execution_count": 1,
   "metadata": {},
   "outputs": [],
   "source": [
    "import pandas as pd\n",
    "import numpy as np \n",
    "import matplotlib.pyplot as plt \n",
    "import seaborn as sns "
   ]
  },
  {
   "cell_type": "code",
   "execution_count": 2,
   "metadata": {},
   "outputs": [
    {
     "data": {
      "text/html": [
       "<div>\n",
       "<style scoped>\n",
       "    .dataframe tbody tr th:only-of-type {\n",
       "        vertical-align: middle;\n",
       "    }\n",
       "\n",
       "    .dataframe tbody tr th {\n",
       "        vertical-align: top;\n",
       "    }\n",
       "\n",
       "    .dataframe thead th {\n",
       "        text-align: right;\n",
       "    }\n",
       "</style>\n",
       "<table border=\"1\" class=\"dataframe\">\n",
       "  <thead>\n",
       "    <tr style=\"text-align: right;\">\n",
       "      <th></th>\n",
       "      <th>Mean droplet size (µm2)</th>\n",
       "      <th>Droplet count</th>\n",
       "      <th>Process interval</th>\n",
       "      <th>Category</th>\n",
       "    </tr>\n",
       "  </thead>\n",
       "  <tbody>\n",
       "    <tr>\n",
       "      <th>0</th>\n",
       "      <td>34.597073</td>\n",
       "      <td>1394</td>\n",
       "      <td>0</td>\n",
       "      <td>U</td>\n",
       "    </tr>\n",
       "    <tr>\n",
       "      <th>1</th>\n",
       "      <td>37.834522</td>\n",
       "      <td>1294</td>\n",
       "      <td>0</td>\n",
       "      <td>U</td>\n",
       "    </tr>\n",
       "    <tr>\n",
       "      <th>2</th>\n",
       "      <td>37.423876</td>\n",
       "      <td>1338</td>\n",
       "      <td>0</td>\n",
       "      <td>U</td>\n",
       "    </tr>\n",
       "    <tr>\n",
       "      <th>3</th>\n",
       "      <td>36.133785</td>\n",
       "      <td>1374</td>\n",
       "      <td>0</td>\n",
       "      <td>U</td>\n",
       "    </tr>\n",
       "    <tr>\n",
       "      <th>4</th>\n",
       "      <td>31.652493</td>\n",
       "      <td>1566</td>\n",
       "      <td>0</td>\n",
       "      <td>U</td>\n",
       "    </tr>\n",
       "  </tbody>\n",
       "</table>\n",
       "</div>"
      ],
      "text/plain": [
       "   Mean droplet size (µm2)  Droplet count  Process interval Category\n",
       "0                34.597073           1394                 0        U\n",
       "1                37.834522           1294                 0        U\n",
       "2                37.423876           1338                 0        U\n",
       "3                36.133785           1374                 0        U\n",
       "4                31.652493           1566                 0        U"
      ]
     },
     "execution_count": 2,
     "metadata": {},
     "output_type": "execute_result"
    }
   ],
   "source": [
    "df = pd.read_csv('Data_Preprocessing/Dropletdata_for_datapreprocessing_exercise.csv' , encoding='ISO-8859-1')\n",
    "df.head()"
   ]
  },
  {
   "cell_type": "code",
   "execution_count": 3,
   "metadata": {},
   "outputs": [
    {
     "data": {
      "text/html": [
       "<div>\n",
       "<style scoped>\n",
       "    .dataframe tbody tr th:only-of-type {\n",
       "        vertical-align: middle;\n",
       "    }\n",
       "\n",
       "    .dataframe tbody tr th {\n",
       "        vertical-align: top;\n",
       "    }\n",
       "\n",
       "    .dataframe thead th {\n",
       "        text-align: right;\n",
       "    }\n",
       "</style>\n",
       "<table border=\"1\" class=\"dataframe\">\n",
       "  <thead>\n",
       "    <tr style=\"text-align: right;\">\n",
       "      <th></th>\n",
       "      <th>count</th>\n",
       "      <th>mean</th>\n",
       "      <th>std</th>\n",
       "      <th>min</th>\n",
       "      <th>25%</th>\n",
       "      <th>50%</th>\n",
       "      <th>75%</th>\n",
       "      <th>max</th>\n",
       "    </tr>\n",
       "  </thead>\n",
       "  <tbody>\n",
       "    <tr>\n",
       "      <th>Mean droplet size (µm2)</th>\n",
       "      <td>150.0</td>\n",
       "      <td>16.439957</td>\n",
       "      <td>10.472195</td>\n",
       "      <td>6.631277</td>\n",
       "      <td>9.682469</td>\n",
       "      <td>10.852975</td>\n",
       "      <td>25.610785</td>\n",
       "      <td>39.231232</td>\n",
       "    </tr>\n",
       "    <tr>\n",
       "      <th>Droplet count</th>\n",
       "      <td>150.0</td>\n",
       "      <td>3809.126667</td>\n",
       "      <td>1672.896561</td>\n",
       "      <td>1294.000000</td>\n",
       "      <td>1865.750000</td>\n",
       "      <td>4199.000000</td>\n",
       "      <td>4615.250000</td>\n",
       "      <td>6657.000000</td>\n",
       "    </tr>\n",
       "    <tr>\n",
       "      <th>Process interval</th>\n",
       "      <td>150.0</td>\n",
       "      <td>35.000000</td>\n",
       "      <td>21.674839</td>\n",
       "      <td>0.000000</td>\n",
       "      <td>15.000000</td>\n",
       "      <td>35.000000</td>\n",
       "      <td>55.000000</td>\n",
       "      <td>70.000000</td>\n",
       "    </tr>\n",
       "  </tbody>\n",
       "</table>\n",
       "</div>"
      ],
      "text/plain": [
       "                         count         mean          std          min  \\\n",
       "Mean droplet size (µm2)  150.0    16.439957    10.472195     6.631277   \n",
       "Droplet count            150.0  3809.126667  1672.896561  1294.000000   \n",
       "Process interval         150.0    35.000000    21.674839     0.000000   \n",
       "\n",
       "                                 25%          50%          75%          max  \n",
       "Mean droplet size (µm2)     9.682469    10.852975    25.610785    39.231232  \n",
       "Droplet count            1865.750000  4199.000000  4615.250000  6657.000000  \n",
       "Process interval           15.000000    35.000000    55.000000    70.000000  "
      ]
     },
     "execution_count": 3,
     "metadata": {},
     "output_type": "execute_result"
    }
   ],
   "source": [
    "df.describe().T"
   ]
  },
  {
   "cell_type": "code",
   "execution_count": 4,
   "metadata": {},
   "outputs": [
    {
     "data": {
      "text/plain": [
       "(150, 4)"
      ]
     },
     "execution_count": 4,
     "metadata": {},
     "output_type": "execute_result"
    }
   ],
   "source": [
    "df.shape"
   ]
  },
  {
   "cell_type": "code",
   "execution_count": 5,
   "metadata": {},
   "outputs": [
    {
     "data": {
      "text/plain": [
       "Mean droplet size (µm2)    float64\n",
       "Droplet count                int64\n",
       "Process interval             int64\n",
       "Category                    object\n",
       "dtype: object"
      ]
     },
     "execution_count": 5,
     "metadata": {},
     "output_type": "execute_result"
    }
   ],
   "source": [
    "df.dtypes"
   ]
  },
  {
   "cell_type": "code",
   "execution_count": 6,
   "metadata": {},
   "outputs": [],
   "source": [
    "# defining Z score function \n",
    "def z_score(X):\n",
    "    z = (X- np.mean(X))/np.std(X)\n",
    "    return z\n",
    "\n",
    "Z_scaled = z_score(df['Mean droplet size (µm2)'])\n"
   ]
  },
  {
   "cell_type": "code",
   "execution_count": 9,
   "metadata": {},
   "outputs": [],
   "source": [
    "# defining minmaxscaler function\n",
    "def min_max_scaler(X):\n",
    "    min_max_scaled = (X- np.min(X))/(np.max(X)-np.min(X))\n",
    "    return min_max_scaled\n",
    "\n",
    "Min_max_scaled_data = min_max_scaler(df['Mean droplet size (µm2)'])"
   ]
  },
  {
   "cell_type": "code",
   "execution_count": 10,
   "metadata": {},
   "outputs": [
    {
     "data": {
      "image/png": "[encoded data removed]",
      "text/plain": [
       "<Figure size 1200x400 with 3 Axes>"
      ]
     },
     "metadata": {},
     "output_type": "display_data"
    }
   ],
   "source": [
    "fig, ax = plt.subplots(1, 3, figsize=(12, 4)) \n",
    "\n",
    "# Plot 1: Original distribution\n",
    "sns.histplot(df['Mean droplet size (µm2)'], bins=50, color='green', ax=ax[0],kde = True) \n",
    "ax[0].set_title('Original distribution')\n",
    "\n",
    "# Plot 2: Standard Scaler Scaling\n",
    "sns.histplot(Z_scaled, bins=50, color='blue',kde = True, ax=ax[1]) \n",
    "ax[1].set_title('Standard Scaler Scaling')\n",
    "\n",
    "# Plot 3: MinMax Scaler Scaling\n",
    "sns.histplot(Min_max_scaled_data, bins=50,kde = True, ax=ax[2]) \n",
    "ax[2].set_title('MinMax Scaler Scaling')\n",
    "\n",
    "plt.tight_layout()  \n",
    "plt.show()\n"
   ]
  },
  {
   "cell_type": "markdown",
   "metadata": {},
   "source": [
    "- The **original data** for the Mean droplet size ranges from 6.63 to 39.3.\n",
    "- After applying **StandardScaler (Z-score scaling)**, the mean droplet size is transformed to a range of approximately -1 to 2. Generally, Z-scores has mean of 0 and std deviation of 1 and the data generally lies in between range of [-3,3].\n",
    "- Following **Min-Max scaling**, the mean droplet size is rescaled to fall between 0 and 1."
   ]
  }
 ],
 "metadata": {
  "kernelspec": {
   "display_name": "Python 3 (ipykernel)",
   "language": "python",
   "name": "python3"
  },
  "language_info": {
   "codemirror_mode": {
    "name": "ipython",
    "version": 3
   },
   "file_extension": ".py",
   "mimetype": "text/x-python",
   "name": "python",
   "nbconvert_exporter": "python",
   "pygments_lexer": "ipython3",
   "version": "3.12.1"
  }
 },
 "nbformat": 4,
 "nbformat_minor": 2
}
